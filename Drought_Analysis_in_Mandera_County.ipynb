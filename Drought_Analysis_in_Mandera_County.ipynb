{
  "nbformat": 4,
  "nbformat_minor": 0,
  "metadata": {
    "colab": {
      "provenance": []
    },
    "kernelspec": {
      "name": "python3",
      "display_name": "Python 3"
    },
    "language_info": {
      "name": "python"
    },
    "widgets": {
      "application/vnd.jupyter.widget-state+json": {
        "839dceba4a8347f4a0bf74b3a762bb87": {
          "model_module": "jupyter-leaflet",
          "model_name": "LeafletMapModel",
          "model_module_version": "^0.19",
          "state": {
            "_dom_classes": [],
            "_model_module": "jupyter-leaflet",
            "_model_module_version": "^0.19",
            "_model_name": "LeafletMapModel",
            "_view_count": null,
            "_view_module": "jupyter-leaflet",
            "_view_module_version": "^0.19",
            "_view_name": "LeafletMapView",
            "bottom": 32442,
            "bounce_at_zoom_limits": true,
            "box_zoom": true,
            "center": [
              3.437846767214043,
              40.73900018258642
            ],
            "close_popup_on_click": true,
            "controls": [
              "IPY_MODEL_574ddfc8c7b546979568069e7f40a811",
              "IPY_MODEL_5fa5782ec7a34e168a124a765b3d0e55",
              "IPY_MODEL_bd54bed037714c19a14984b1aa305b7d",
              "IPY_MODEL_2bae284a874945ddb93982185b34af15"
            ],
            "crs": {
              "name": "EPSG3857",
              "custom": false
            },
            "default_style": "IPY_MODEL_c732ddcc193946e2947a1f40542101f2",
            "double_click_zoom": true,
            "dragging": true,
            "dragging_style": "IPY_MODEL_239eec064f0f43b3bbc6a0f65e4a84e4",
            "east": 45.39001464843751,
            "fullscreen": false,
            "inertia": true,
            "inertia_deceleration": 3000,
            "inertia_max_speed": 1500,
            "interpolation": "bilinear",
            "keyboard": true,
            "keyboard_pan_offset": 80,
            "keyboard_zoom_offset": 1,
            "layers": [
              "IPY_MODEL_6087df29774f4e5ea188888e56ea266b"
            ],
            "layout": "IPY_MODEL_c724f54fa6174003a45decda6ca6578c",
            "left": 39337,
            "max_zoom": 24,
            "min_zoom": null,
            "modisdate": "2025-02-26",
            "north": 5.0800010938086215,
            "options": [
              "bounce_at_zoom_limits",
              "box_zoom",
              "center",
              "close_popup_on_click",
              "double_click_zoom",
              "dragging",
              "fullscreen",
              "inertia",
              "inertia_deceleration",
              "inertia_max_speed",
              "interpolation",
              "keyboard",
              "keyboard_pan_offset",
              "keyboard_zoom_offset",
              "max_zoom",
              "min_zoom",
              "prefer_canvas",
              "scroll_wheel_zoom",
              "tap",
              "tap_tolerance",
              "touch_zoom",
              "world_copy_jump",
              "zoom",
              "zoom_animation_threshold",
              "zoom_delta",
              "zoom_snap"
            ],
            "panes": {},
            "prefer_canvas": false,
            "right": 41031,
            "scroll_wheel_zoom": true,
            "south": 1.7904799982071269,
            "style": "IPY_MODEL_bbdc94df3d2a459d88266c815b9af442",
            "tap": true,
            "tap_tolerance": 15,
            "top": 31842,
            "touch_zoom": true,
            "west": 36.08459472656251,
            "window_url": "https://nqqr52rp24n-496ff2e9c6d22116-0-colab.googleusercontent.com/outputframe.html?vrz=colab_20250225-060130_RC00_730807779",
            "world_copy_jump": false,
            "zoom": 8,
            "zoom_animation_threshold": 4,
            "zoom_delta": 1,
            "zoom_snap": 1
          }
        },
        "574ddfc8c7b546979568069e7f40a811": {
          "model_module": "jupyter-leaflet",
          "model_name": "LeafletZoomControlModel",
          "model_module_version": "^0.19",
          "state": {
            "_model_module": "jupyter-leaflet",
            "_model_module_version": "^0.19",
            "_model_name": "LeafletZoomControlModel",
            "_view_count": null,
            "_view_module": "jupyter-leaflet",
            "_view_module_version": "^0.19",
            "_view_name": "LeafletZoomControlView",
            "options": [
              "position",
              "zoom_in_text",
              "zoom_in_title",
              "zoom_out_text",
              "zoom_out_title"
            ],
            "position": "topleft",
            "zoom_in_text": "+",
            "zoom_in_title": "Zoom in",
            "zoom_out_text": "-",
            "zoom_out_title": "Zoom out"
          }
        },
        "5fa5782ec7a34e168a124a765b3d0e55": {
          "model_module": "jupyter-leaflet",
          "model_name": "LeafletFullScreenControlModel",
          "model_module_version": "^0.19",
          "state": {
            "_model_module": "jupyter-leaflet",
            "_model_module_version": "^0.19",
            "_model_name": "LeafletFullScreenControlModel",
            "_view_count": null,
            "_view_module": "jupyter-leaflet",
            "_view_module_version": "^0.19",
            "_view_name": "LeafletFullScreenControlView",
            "options": [
              "position"
            ],
            "position": "topleft"
          }
        },
        "bd54bed037714c19a14984b1aa305b7d": {
          "model_module": "jupyter-leaflet",
          "model_name": "LeafletSplitMapControlModel",
          "model_module_version": "^0.19",
          "state": {
            "_model_module": "jupyter-leaflet",
            "_model_module_version": "^0.19",
            "_model_name": "LeafletSplitMapControlModel",
            "_view_count": null,
            "_view_module": "jupyter-leaflet",
            "_view_module_version": "^0.19",
            "_view_name": "LeafletSplitMapControlView",
            "left_layer": "IPY_MODEL_40ecb850e6a64e0a83d6b5b242fc7149",
            "options": [
              "position"
            ],
            "position": "topleft",
            "right_layer": "IPY_MODEL_7592b064f6dc4b6983356c26b27f4178"
          }
        },
        "2bae284a874945ddb93982185b34af15": {
          "model_module": "jupyter-leaflet",
          "model_name": "LeafletLayersControlModel",
          "model_module_version": "^0.19",
          "state": {
            "_model_module": "jupyter-leaflet",
            "_model_module_version": "^0.19",
            "_model_name": "LeafletLayersControlModel",
            "_view_count": null,
            "_view_module": "jupyter-leaflet",
            "_view_module_version": "^0.19",
            "_view_name": "LeafletLayersControlView",
            "collapsed": true,
            "options": [
              "collapsed",
              "position"
            ],
            "position": "topright"
          }
        },
        "c732ddcc193946e2947a1f40542101f2": {
          "model_module": "jupyter-leaflet",
          "model_name": "LeafletMapStyleModel",
          "model_module_version": "^0.19",
          "state": {
            "_model_module": "jupyter-leaflet",
            "_model_module_version": "^0.19",
            "_model_name": "LeafletMapStyleModel",
            "_view_count": null,
            "_view_module": "@jupyter-widgets/base",
            "_view_module_version": "1.2.0",
            "_view_name": "StyleView",
            "cursor": "grab"
          }
        },
        "239eec064f0f43b3bbc6a0f65e4a84e4": {
          "model_module": "jupyter-leaflet",
          "model_name": "LeafletMapStyleModel",
          "model_module_version": "^0.19",
          "state": {
            "_model_module": "jupyter-leaflet",
            "_model_module_version": "^0.19",
            "_model_name": "LeafletMapStyleModel",
            "_view_count": null,
            "_view_module": "@jupyter-widgets/base",
            "_view_module_version": "1.2.0",
            "_view_name": "StyleView",
            "cursor": "move"
          }
        },
        "6087df29774f4e5ea188888e56ea266b": {
          "model_module": "jupyter-leaflet",
          "model_name": "LeafletTileLayerModel",
          "model_module_version": "^0.19",
          "state": {
            "_model_module": "jupyter-leaflet",
            "_model_module_version": "^0.19",
            "_model_name": "LeafletTileLayerModel",
            "_view_count": null,
            "_view_module": "jupyter-leaflet",
            "_view_module_version": "^0.19",
            "_view_name": "LeafletTileLayerView",
            "attribution": "&copy; <a href=\"https://www.openstreetmap.org/copyright\">OpenStreetMap</a> contributors",
            "base": true,
            "bottom": true,
            "bounds": null,
            "detect_retina": false,
            "loading": false,
            "max_native_zoom": null,
            "max_zoom": 30,
            "min_native_zoom": null,
            "min_zoom": 1,
            "name": "OpenStreetMap.Mapnik",
            "no_wrap": false,
            "opacity": 1,
            "options": [
              "attribution",
              "bounds",
              "detect_retina",
              "max_native_zoom",
              "max_zoom",
              "min_native_zoom",
              "min_zoom",
              "no_wrap",
              "tile_size",
              "tms",
              "zoom_offset"
            ],
            "pane": "",
            "popup": null,
            "popup_max_height": null,
            "popup_max_width": 300,
            "popup_min_width": 50,
            "show_loading": false,
            "subitems": [],
            "tile_size": 256,
            "tms": false,
            "url": "https://tile.openstreetmap.org/{z}/{x}/{y}.png",
            "visible": true,
            "zoom_offset": 0
          }
        },
        "c724f54fa6174003a45decda6ca6578c": {
          "model_module": "@jupyter-widgets/base",
          "model_name": "LayoutModel",
          "model_module_version": "1.2.0",
          "state": {
            "_model_module": "@jupyter-widgets/base",
            "_model_module_version": "1.2.0",
            "_model_name": "LayoutModel",
            "_view_count": null,
            "_view_module": "@jupyter-widgets/base",
            "_view_module_version": "1.2.0",
            "_view_name": "LayoutView",
            "align_content": null,
            "align_items": null,
            "align_self": null,
            "border": null,
            "bottom": null,
            "display": null,
            "flex": null,
            "flex_flow": null,
            "grid_area": null,
            "grid_auto_columns": null,
            "grid_auto_flow": null,
            "grid_auto_rows": null,
            "grid_column": null,
            "grid_gap": null,
            "grid_row": null,
            "grid_template_areas": null,
            "grid_template_columns": null,
            "grid_template_rows": null,
            "height": "600px",
            "justify_content": null,
            "justify_items": null,
            "left": null,
            "margin": null,
            "max_height": null,
            "max_width": null,
            "min_height": null,
            "min_width": null,
            "object_fit": null,
            "object_position": null,
            "order": null,
            "overflow": null,
            "overflow_x": null,
            "overflow_y": null,
            "padding": null,
            "right": null,
            "top": null,
            "visibility": null,
            "width": null
          }
        },
        "bbdc94df3d2a459d88266c815b9af442": {
          "model_module": "jupyter-leaflet",
          "model_name": "LeafletMapStyleModel",
          "model_module_version": "^0.19",
          "state": {
            "_model_module": "jupyter-leaflet",
            "_model_module_version": "^0.19",
            "_model_name": "LeafletMapStyleModel",
            "_view_count": null,
            "_view_module": "@jupyter-widgets/base",
            "_view_module_version": "1.2.0",
            "_view_name": "StyleView",
            "cursor": "grab"
          }
        },
        "40ecb850e6a64e0a83d6b5b242fc7149": {
          "model_module": "jupyter-leaflet",
          "model_name": "LeafletTileLayerModel",
          "model_module_version": "^0.19",
          "state": {
            "_model_module": "jupyter-leaflet",
            "_model_module_version": "^0.19",
            "_model_name": "LeafletTileLayerModel",
            "_view_count": null,
            "_view_module": "jupyter-leaflet",
            "_view_module_version": "^0.19",
            "_view_name": "LeafletTileLayerView",
            "attribution": "Google Earth Engine",
            "base": false,
            "bottom": true,
            "bounds": null,
            "detect_retina": false,
            "loading": false,
            "max_native_zoom": null,
            "max_zoom": 24,
            "min_native_zoom": null,
            "min_zoom": 0,
            "name": "SPEI 2021",
            "no_wrap": false,
            "opacity": 1,
            "options": [
              "attribution",
              "bounds",
              "detect_retina",
              "max_native_zoom",
              "max_zoom",
              "min_native_zoom",
              "min_zoom",
              "no_wrap",
              "tile_size",
              "tms",
              "zoom_offset"
            ],
            "pane": "",
            "popup": null,
            "popup_max_height": null,
            "popup_max_width": 300,
            "popup_min_width": 50,
            "show_loading": false,
            "subitems": [],
            "tile_size": 256,
            "tms": false,
            "url": "https://earthengine.googleapis.com/v1/projects/ee-vindevon11/maps/13462da7dc6cf1e216ad17c0008feb7a-505ed8f48446382ff486af496f4a94b5/tiles/{z}/{x}/{y}",
            "visible": true,
            "zoom_offset": 0
          }
        },
        "7592b064f6dc4b6983356c26b27f4178": {
          "model_module": "jupyter-leaflet",
          "model_name": "LeafletTileLayerModel",
          "model_module_version": "^0.19",
          "state": {
            "_model_module": "jupyter-leaflet",
            "_model_module_version": "^0.19",
            "_model_name": "LeafletTileLayerModel",
            "_view_count": null,
            "_view_module": "jupyter-leaflet",
            "_view_module_version": "^0.19",
            "_view_name": "LeafletTileLayerView",
            "attribution": "Google Earth Engine",
            "base": false,
            "bottom": true,
            "bounds": null,
            "detect_retina": false,
            "loading": false,
            "max_native_zoom": null,
            "max_zoom": 24,
            "min_native_zoom": null,
            "min_zoom": 0,
            "name": "SPEI 2022",
            "no_wrap": false,
            "opacity": 1,
            "options": [
              "attribution",
              "bounds",
              "detect_retina",
              "max_native_zoom",
              "max_zoom",
              "min_native_zoom",
              "min_zoom",
              "no_wrap",
              "tile_size",
              "tms",
              "zoom_offset"
            ],
            "pane": "",
            "popup": null,
            "popup_max_height": null,
            "popup_max_width": 300,
            "popup_min_width": 50,
            "show_loading": false,
            "subitems": [],
            "tile_size": 256,
            "tms": false,
            "url": "https://earthengine.googleapis.com/v1/projects/ee-vindevon11/maps/bdf9c500cf57f95a81c1d4f8d1e76ae2-1138ef0aa455053d215ac02b01a5a7b9/tiles/{z}/{x}/{y}",
            "visible": true,
            "zoom_offset": 0
          }
        }
      }
    }
  },
  "cells": [
    {
      "cell_type": "markdown",
      "source": [
        "# **Introduction To Standardized Precipitation Evapotranspiration Index, SPEI**\n",
        "\n"
      ],
      "metadata": {
        "id": "baZ4q4YH2KQS"
      }
    },
    {
      "cell_type": "markdown",
      "source": [
        "The **Standardized Precipitation Evapotranspiration Index (SPEI)**  is a widely used drought index in remote sensing and climatology that quantifies drought conditions by considering both precipitation and potential evapotranspiration (PET).\n",
        "\n",
        "It is an extension of the Standardized Precipitation Index (SPI) but incorporates temperature data, making it more sensitive to the effects of climate change and variability."
      ],
      "metadata": {
        "id": "IbuepZRo2ajM"
      }
    },
    {
      "cell_type": "markdown",
      "source": [
        "**Key Features of SPEI:**\n",
        "\n",
        "1. **Combines Precipitation and Temperature Data:**\n",
        "\n",
        "SPEI uses precipitation and temperature data to calculate water balance (precipitation minus evapotranspiration).\n",
        "\n",
        "This makes it more comprehensive than SPI, which only considers precipitation.\n",
        "\n",
        "2. **Standardized Scale:**\n",
        "\n",
        "Like SPI, SPEI is standardized, meaning it can be applied across different regions and time scales (e.g., 1-month, 3-month, 12-month).\n",
        "\n",
        "The standardized values allow for comparison of drought conditions across diverse climates.\n",
        "\n",
        "3. **Multi-Scale Analysis:**\n",
        "\n",
        "SPEI can be computed for various time scales (short-term to long-term), making it suitable for analyzing different types of drought (e.g., meteorological, agricultural, hydrological).\n",
        "\n",
        "4. **Sensitivity to Climate Change:**\n",
        "\n",
        "By including temperature, SPEI accounts for the impact of rising temperatures on drought conditions, which is particularly relevant in the context of global warming."
      ],
      "metadata": {
        "id": "__DsEhkz2qFh"
      }
    },
    {
      "cell_type": "markdown",
      "source": [
        "**Calculation of SPEI:**\n",
        "1. **Water Balance Calculation**:\n",
        "\n",
        "The difference between precipitation (P) and potential evapotranspiration (PET) is calculated for a given time period.\n",
        "\n",
        "**D = P − PET**,\n",
        "where **D** is the *climatic water balance*\n",
        "\n",
        "2. **Accumulation**:\n",
        "\n",
        "The water balance values are accumulated over the desired time scale (e.g., 3 months, 6 months).\n",
        "\n",
        "3. **Standardization**:\n",
        "\n",
        "The accumulated values are fitted to a probability distribution (typically a log-logistic distribution).\n",
        "\n",
        "The values are then transformed into a standardized index with a mean of 0 and a standard deviation of 1.\n",
        "\n",
        "4. **Interpretation**:\n",
        "\n",
        "*Negative* SPEI values indicate drought conditions, while *positive* values indicate wet conditions.\n",
        "\n",
        "The magnitude of the value reflects the severity of the drought or wetness."
      ],
      "metadata": {
        "id": "rNOQTs1Dj-w4"
      }
    },
    {
      "cell_type": "markdown",
      "source": [
        "**Applications in Remote Sensing:**\n",
        "\n",
        "i. **Drought Monitoring**:\n",
        "\n",
        "* SPEI is used to monitor and assess drought conditions at regional, national, and global scales.\n",
        "\n",
        "* Remote sensing data, such as satellite-derived precipitation (e.g., TRMM, GPM) and temperature (e.g., MODIS, ERA5), can be used to calculate SPEI.\n",
        "\n",
        "ii. **Agricultural Drought Assessment**:\n",
        "\n",
        "* SPEI is particularly useful for assessing agricultural drought, as it accounts for both water availability (precipitation) and water demand (evapotranspiration).\n",
        "\n",
        "iii. **Climate Change Studies**:\n",
        "\n",
        "* SPEI is widely used in climate change research to study trends in drought frequency, intensity, and duration.\n",
        "\n",
        "iv. **Early Warning Systems**:\n",
        "\n",
        "* SPEI can be integrated into early warning systems to provide timely information for drought mitigation and management."
      ],
      "metadata": {
        "id": "gJEpfNqjk_SA"
      }
    },
    {
      "cell_type": "markdown",
      "source": [
        "# **Foundational Earth Engine Set Up**"
      ],
      "metadata": {
        "id": "BWCn36w7tCzJ"
      }
    },
    {
      "cell_type": "code",
      "execution_count": null,
      "metadata": {
        "id": "TZmM2-nGs6c7"
      },
      "outputs": [],
      "source": [
        "import ee\n",
        "import geemap\n",
        "import folium"
      ]
    },
    {
      "cell_type": "markdown",
      "source": [
        "Insert your ProjectID from Earth Engine"
      ],
      "metadata": {
        "id": "Ftu1PMGPZwXL"
      }
    },
    {
      "cell_type": "code",
      "source": [
        "geemap.ee_initialize(project='--------')"
      ],
      "metadata": {
        "colab": {
          "base_uri": "https://localhost:8080/",
          "height": 17
        },
        "id": "YQzvv0KrtBjT",
        "outputId": "69ba4512-56cb-4238-bc60-5654dfb99f55"
      },
      "execution_count": null,
      "outputs": [
        {
          "output_type": "display_data",
          "data": {
            "text/plain": [
              "<IPython.core.display.HTML object>"
            ],
            "text/html": [
              "\n",
              "            <style>\n",
              "                .geemap-dark {\n",
              "                    --jp-widgets-color: white;\n",
              "                    --jp-widgets-label-color: white;\n",
              "                    --jp-ui-font-color1: white;\n",
              "                    --jp-layout-color2: #454545;\n",
              "                    background-color: #383838;\n",
              "                }\n",
              "\n",
              "                .geemap-dark .jupyter-button {\n",
              "                    --jp-layout-color3: #383838;\n",
              "                }\n",
              "\n",
              "                .geemap-colab {\n",
              "                    background-color: var(--colab-primary-surface-color, white);\n",
              "                }\n",
              "\n",
              "                .geemap-colab .jupyter-button {\n",
              "                    --jp-layout-color3: var(--colab-primary-surface-color, white);\n",
              "                }\n",
              "            </style>\n",
              "            "
            ]
          },
          "metadata": {}
        }
      ]
    },
    {
      "cell_type": "code",
      "source": [
        "Map = geemap.Map(height = 500)\n",
        "Map.add(\"basemap_selector\")"
      ],
      "metadata": {
        "colab": {
          "base_uri": "https://localhost:8080/",
          "height": 17
        },
        "id": "c_EcC_cZte9s",
        "outputId": "114ca6fb-9060-4865-b77e-2da8a91e13ae"
      },
      "execution_count": null,
      "outputs": [
        {
          "output_type": "display_data",
          "data": {
            "text/plain": [
              "<IPython.core.display.HTML object>"
            ],
            "text/html": [
              "\n",
              "            <style>\n",
              "                .geemap-dark {\n",
              "                    --jp-widgets-color: white;\n",
              "                    --jp-widgets-label-color: white;\n",
              "                    --jp-ui-font-color1: white;\n",
              "                    --jp-layout-color2: #454545;\n",
              "                    background-color: #383838;\n",
              "                }\n",
              "\n",
              "                .geemap-dark .jupyter-button {\n",
              "                    --jp-layout-color3: #383838;\n",
              "                }\n",
              "\n",
              "                .geemap-colab {\n",
              "                    background-color: var(--colab-primary-surface-color, white);\n",
              "                }\n",
              "\n",
              "                .geemap-colab .jupyter-button {\n",
              "                    --jp-layout-color3: var(--colab-primary-surface-color, white);\n",
              "                }\n",
              "            </style>\n",
              "            "
            ]
          },
          "metadata": {}
        }
      ]
    },
    {
      "cell_type": "markdown",
      "source": [
        "# **Subsetting To A.O.I - Mandera County, Kenya**"
      ],
      "metadata": {
        "id": "V98ancxlv0Bn"
      }
    },
    {
      "cell_type": "code",
      "source": [
        "# Load the FAO GAUL Level 2 administrative boundaries dataset\n",
        "gaul = ee.FeatureCollection('FAO/GAUL/2015/level2')\n",
        "\n",
        "# Filter the dataset for Mandera County in Kenya\n",
        "roi = gaul.filter(ee.Filter.And(\n",
        "    ee.Filter.eq('ADM0_NAME', 'Kenya'),         # Country name filter\n",
        "    ee.Filter.eq('ADM2_NAME', 'Mandera')        # County name filter\n",
        "))\n",
        "\n",
        "mandera = roi.geometry()"
      ],
      "metadata": {
        "colab": {
          "base_uri": "https://localhost:8080/",
          "height": 17
        },
        "id": "B-b19dP1v7WM",
        "outputId": "1a311aa4-2305-4544-d0ef-1cb6d6d052dd"
      },
      "execution_count": null,
      "outputs": [
        {
          "output_type": "display_data",
          "data": {
            "text/plain": [
              "<IPython.core.display.HTML object>"
            ],
            "text/html": [
              "\n",
              "            <style>\n",
              "                .geemap-dark {\n",
              "                    --jp-widgets-color: white;\n",
              "                    --jp-widgets-label-color: white;\n",
              "                    --jp-ui-font-color1: white;\n",
              "                    --jp-layout-color2: #454545;\n",
              "                    background-color: #383838;\n",
              "                }\n",
              "\n",
              "                .geemap-dark .jupyter-button {\n",
              "                    --jp-layout-color3: #383838;\n",
              "                }\n",
              "\n",
              "                .geemap-colab {\n",
              "                    background-color: var(--colab-primary-surface-color, white);\n",
              "                }\n",
              "\n",
              "                .geemap-colab .jupyter-button {\n",
              "                    --jp-layout-color3: var(--colab-primary-surface-color, white);\n",
              "                }\n",
              "            </style>\n",
              "            "
            ]
          },
          "metadata": {}
        }
      ]
    },
    {
      "cell_type": "code",
      "source": [
        "Map.center_object(mandera, zoom=8)\n",
        "\n",
        "# Highlight Mandera County with a red boundary\n",
        "mandera_outline = ee.Image().paint(mandera, 1, 2)  # Create outline image\n",
        "\n",
        "Map.add_ee_layer(mandera_outline, {'palette': 'red'}, 'Mandera County Boundary')"
      ],
      "metadata": {
        "colab": {
          "base_uri": "https://localhost:8080/",
          "height": 17
        },
        "id": "7AlSUWaaz4Dl",
        "outputId": "b97a99a1-cfab-4659-cc2f-6771177e4182"
      },
      "execution_count": null,
      "outputs": [
        {
          "output_type": "display_data",
          "data": {
            "text/plain": [
              "<IPython.core.display.HTML object>"
            ],
            "text/html": [
              "\n",
              "            <style>\n",
              "                .geemap-dark {\n",
              "                    --jp-widgets-color: white;\n",
              "                    --jp-widgets-label-color: white;\n",
              "                    --jp-ui-font-color1: white;\n",
              "                    --jp-layout-color2: #454545;\n",
              "                    background-color: #383838;\n",
              "                }\n",
              "\n",
              "                .geemap-dark .jupyter-button {\n",
              "                    --jp-layout-color3: #383838;\n",
              "                }\n",
              "\n",
              "                .geemap-colab {\n",
              "                    background-color: var(--colab-primary-surface-color, white);\n",
              "                }\n",
              "\n",
              "                .geemap-colab .jupyter-button {\n",
              "                    --jp-layout-color3: var(--colab-primary-surface-color, white);\n",
              "                }\n",
              "            </style>\n",
              "            "
            ]
          },
          "metadata": {}
        }
      ]
    },
    {
      "cell_type": "markdown",
      "source": [
        "# **SPEI Analysis**"
      ],
      "metadata": {
        "id": "L7gT54nKsXqb"
      }
    },
    {
      "cell_type": "code",
      "source": [
        "speiCollection = ee.ImageCollection('CSIC/SPEI/2_10').select('SPEI_24_month').filterDate('2021', '2023')"
      ],
      "metadata": {
        "colab": {
          "base_uri": "https://localhost:8080/",
          "height": 17
        },
        "id": "OHskSnNmM8BK",
        "outputId": "a421234b-a3a0-4172-850b-04fed8c6be6c"
      },
      "execution_count": null,
      "outputs": [
        {
          "output_type": "display_data",
          "data": {
            "text/plain": [
              "<IPython.core.display.HTML object>"
            ],
            "text/html": [
              "\n",
              "            <style>\n",
              "                .geemap-dark {\n",
              "                    --jp-widgets-color: white;\n",
              "                    --jp-widgets-label-color: white;\n",
              "                    --jp-ui-font-color1: white;\n",
              "                    --jp-layout-color2: #454545;\n",
              "                    background-color: #383838;\n",
              "                }\n",
              "\n",
              "                .geemap-dark .jupyter-button {\n",
              "                    --jp-layout-color3: #383838;\n",
              "                }\n",
              "\n",
              "                .geemap-colab {\n",
              "                    background-color: var(--colab-primary-surface-color, white);\n",
              "                }\n",
              "\n",
              "                .geemap-colab .jupyter-button {\n",
              "                    --jp-layout-color3: var(--colab-primary-surface-color, white);\n",
              "                }\n",
              "            </style>\n",
              "            "
            ]
          },
          "metadata": {}
        }
      ]
    },
    {
      "cell_type": "code",
      "source": [
        "# Function to calculate mean SPEI over the ROI\n",
        "def calculate_median_spei(image):\n",
        "    median_spei = image.reduceRegion(\n",
        "        reducer=ee.Reducer.median(),\n",
        "        geometry=mandera,\n",
        "        scale=55000\n",
        "    )\n",
        "    return image.set('median_spei', median_spei.get('SPEI_24_month'))\n",
        "\n",
        "# Map the function over the SPEI collection\n",
        "speiCollection = speiCollection.map(calculate_median_spei)"
      ],
      "metadata": {
        "colab": {
          "base_uri": "https://localhost:8080/",
          "height": 17
        },
        "id": "6vmlgk8LSazj",
        "outputId": "e82166b2-a458-4fcd-99f7-3a60f94d4a76"
      },
      "execution_count": null,
      "outputs": [
        {
          "output_type": "display_data",
          "data": {
            "text/plain": [
              "<IPython.core.display.HTML object>"
            ],
            "text/html": [
              "\n",
              "            <style>\n",
              "                .geemap-dark {\n",
              "                    --jp-widgets-color: white;\n",
              "                    --jp-widgets-label-color: white;\n",
              "                    --jp-ui-font-color1: white;\n",
              "                    --jp-layout-color2: #454545;\n",
              "                    background-color: #383838;\n",
              "                }\n",
              "\n",
              "                .geemap-dark .jupyter-button {\n",
              "                    --jp-layout-color3: #383838;\n",
              "                }\n",
              "\n",
              "                .geemap-colab {\n",
              "                    background-color: var(--colab-primary-surface-color, white);\n",
              "                }\n",
              "\n",
              "                .geemap-colab .jupyter-button {\n",
              "                    --jp-layout-color3: var(--colab-primary-surface-color, white);\n",
              "                }\n",
              "            </style>\n",
              "            "
            ]
          },
          "metadata": {}
        }
      ]
    },
    {
      "cell_type": "code",
      "source": [
        "# Get the time series data\n",
        "timeseries = speiCollection.aggregate_array('median_spei').getInfo()\n",
        "dates = speiCollection.aggregate_array('system:time_start').getInfo()\n",
        "\n",
        "# Convert dates to a readable format\n",
        "import pandas as pd\n",
        "dates = pd.to_datetime(dates, unit='ms')"
      ],
      "metadata": {
        "colab": {
          "base_uri": "https://localhost:8080/",
          "height": 17
        },
        "id": "e-9VUEZqSqYI",
        "outputId": "14a1ed7f-b9d4-43b6-bfce-b72c39c7df39"
      },
      "execution_count": null,
      "outputs": [
        {
          "output_type": "display_data",
          "data": {
            "text/plain": [
              "<IPython.core.display.HTML object>"
            ],
            "text/html": [
              "\n",
              "            <style>\n",
              "                .geemap-dark {\n",
              "                    --jp-widgets-color: white;\n",
              "                    --jp-widgets-label-color: white;\n",
              "                    --jp-ui-font-color1: white;\n",
              "                    --jp-layout-color2: #454545;\n",
              "                    background-color: #383838;\n",
              "                }\n",
              "\n",
              "                .geemap-dark .jupyter-button {\n",
              "                    --jp-layout-color3: #383838;\n",
              "                }\n",
              "\n",
              "                .geemap-colab {\n",
              "                    background-color: var(--colab-primary-surface-color, white);\n",
              "                }\n",
              "\n",
              "                .geemap-colab .jupyter-button {\n",
              "                    --jp-layout-color3: var(--colab-primary-surface-color, white);\n",
              "                }\n",
              "            </style>\n",
              "            "
            ]
          },
          "metadata": {}
        }
      ]
    },
    {
      "cell_type": "code",
      "source": [
        "import matplotlib.pyplot as plt\n",
        "\n",
        "# Plot the time series\n",
        "plt.figure(figsize=(20, 6))\n",
        "plt.plot(dates, timeseries, marker='o', linestyle='-', color='b')\n",
        "plt.title('SPEI (24-month) Over Mandera County (2021-2023)')\n",
        "plt.xlabel(' ')\n",
        "plt.ylabel('SPEI')\n",
        "plt.grid(False)\n",
        "plt.show()"
      ],
      "metadata": {
        "colab": {
          "base_uri": "https://localhost:8080/",
          "height": 564
        },
        "id": "2CAI_aSnSvCv",
        "outputId": "f03f73e3-2902-4a61-9429-11d797b2c6ba"
      },
      "execution_count": null,
      "outputs": [
        {
          "output_type": "display_data",
          "data": {
            "text/plain": [
              "<IPython.core.display.HTML object>"
            ],
            "text/html": [
              "\n",
              "            <style>\n",
              "                .geemap-dark {\n",
              "                    --jp-widgets-color: white;\n",
              "                    --jp-widgets-label-color: white;\n",
              "                    --jp-ui-font-color1: white;\n",
              "                    --jp-layout-color2: #454545;\n",
              "                    background-color: #383838;\n",
              "                }\n",
              "\n",
              "                .geemap-dark .jupyter-button {\n",
              "                    --jp-layout-color3: #383838;\n",
              "                }\n",
              "\n",
              "                .geemap-colab {\n",
              "                    background-color: var(--colab-primary-surface-color, white);\n",
              "                }\n",
              "\n",
              "                .geemap-colab .jupyter-button {\n",
              "                    --jp-layout-color3: var(--colab-primary-surface-color, white);\n",
              "                }\n",
              "            </style>\n",
              "            "
            ]
          },
          "metadata": {}
        },
        {
          "output_type": "display_data",
          "data": {
            "text/plain": [
              "<Figure size 2000x600 with 1 Axes>"
            ],
            "image/png": "[encoded data removed]"
          },
          "metadata": {}
        }
      ]
    },
    {
      "cell_type": "markdown",
      "source": [
        "# SPEI Mapping"
      ],
      "metadata": {
        "id": "8nib5dxwTxyP"
      }
    },
    {
      "cell_type": "code",
      "source": [
        "from google.colab import output\n",
        "output.enable_custom_widget_manager()"
      ],
      "metadata": {
        "colab": {
          "base_uri": "https://localhost:8080/",
          "height": 17
        },
        "id": "G9xFqYduY0NE",
        "outputId": "fa7cafc1-d460-43d6-f4a8-4eaf28cf8906"
      },
      "execution_count": null,
      "outputs": [
        {
          "output_type": "display_data",
          "data": {
            "text/plain": [
              "<IPython.core.display.HTML object>"
            ],
            "text/html": [
              "\n",
              "            <style>\n",
              "                .geemap-dark {\n",
              "                    --jp-widgets-color: white;\n",
              "                    --jp-widgets-label-color: white;\n",
              "                    --jp-ui-font-color1: white;\n",
              "                    --jp-layout-color2: #454545;\n",
              "                    background-color: #383838;\n",
              "                }\n",
              "\n",
              "                .geemap-dark .jupyter-button {\n",
              "                    --jp-layout-color3: #383838;\n",
              "                }\n",
              "\n",
              "                .geemap-colab {\n",
              "                    background-color: var(--colab-primary-surface-color, white);\n",
              "                }\n",
              "\n",
              "                .geemap-colab .jupyter-button {\n",
              "                    --jp-layout-color3: var(--colab-primary-surface-color, white);\n",
              "                }\n",
              "            </style>\n",
              "            "
            ]
          },
          "metadata": {}
        }
      ]
    },
    {
      "cell_type": "code",
      "source": [
        "\n",
        "# Filter the SPEI collection for the year 2021\n",
        "speiCollection2021 = ee.ImageCollection('CSIC/SPEI/2_10').select('SPEI_12_month').filterDate('2021', '2022')\n",
        "\n",
        "# Calculate the mean SPEI for 2021\n",
        "median_spei_2021 = speiCollection2021.median().clip(mandera)\n",
        "\n",
        "# Display the mean SPEI for 2021 on the map\n",
        "Map.addLayer(median_spei_2021, {'min': -2, 'max': 2, 'palette': ['red', 'yellow', 'green']}, 'SPEI 2021')"
      ],
      "metadata": {
        "colab": {
          "base_uri": "https://localhost:8080/",
          "height": 17
        },
        "id": "HG5x3TRMXOjL",
        "outputId": "c82a273b-dc73-460f-f399-6262a27fe06f"
      },
      "execution_count": null,
      "outputs": [
        {
          "output_type": "display_data",
          "data": {
            "text/plain": [
              "<IPython.core.display.HTML object>"
            ],
            "text/html": [
              "\n",
              "            <style>\n",
              "                .geemap-dark {\n",
              "                    --jp-widgets-color: white;\n",
              "                    --jp-widgets-label-color: white;\n",
              "                    --jp-ui-font-color1: white;\n",
              "                    --jp-layout-color2: #454545;\n",
              "                    background-color: #383838;\n",
              "                }\n",
              "\n",
              "                .geemap-dark .jupyter-button {\n",
              "                    --jp-layout-color3: #383838;\n",
              "                }\n",
              "\n",
              "                .geemap-colab {\n",
              "                    background-color: var(--colab-primary-surface-color, white);\n",
              "                }\n",
              "\n",
              "                .geemap-colab .jupyter-button {\n",
              "                    --jp-layout-color3: var(--colab-primary-surface-color, white);\n",
              "                }\n",
              "            </style>\n",
              "            "
            ]
          },
          "metadata": {}
        }
      ]
    },
    {
      "cell_type": "code",
      "source": [
        "\n",
        "# Filter the SPEI collection for the year 2022\n",
        "speiCollection2022 = ee.ImageCollection('CSIC/SPEI/2_10').select('SPEI_12_month').filterDate('2022', '2023')\n",
        "\n",
        "# Calculate the mean SPEI for 2022\n",
        "median_spei_2022 = speiCollection2022.median().clip(mandera)\n",
        "\n",
        "# Display the mean SPEI for 2021 on the map\n",
        "Map.addLayer(median_spei_2022, {'min': -2, 'max': 2, 'palette': ['red', 'yellow', 'green']}, 'SPEI 2022')"
      ],
      "metadata": {
        "colab": {
          "base_uri": "https://localhost:8080/",
          "height": 17
        },
        "id": "_tI0ekSgZkLN",
        "outputId": "8b9399db-d26a-4471-b22f-10258f7cf8b7"
      },
      "execution_count": null,
      "outputs": [
        {
          "output_type": "display_data",
          "data": {
            "text/plain": [
              "<IPython.core.display.HTML object>"
            ],
            "text/html": [
              "\n",
              "            <style>\n",
              "                .geemap-dark {\n",
              "                    --jp-widgets-color: white;\n",
              "                    --jp-widgets-label-color: white;\n",
              "                    --jp-ui-font-color1: white;\n",
              "                    --jp-layout-color2: #454545;\n",
              "                    background-color: #383838;\n",
              "                }\n",
              "\n",
              "                .geemap-dark .jupyter-button {\n",
              "                    --jp-layout-color3: #383838;\n",
              "                }\n",
              "\n",
              "                .geemap-colab {\n",
              "                    background-color: var(--colab-primary-surface-color, white);\n",
              "                }\n",
              "\n",
              "                .geemap-colab .jupyter-button {\n",
              "                    --jp-layout-color3: var(--colab-primary-surface-color, white);\n",
              "                }\n",
              "            </style>\n",
              "            "
            ]
          },
          "metadata": {}
        }
      ]
    },
    {
      "cell_type": "code",
      "source": [
        "\n",
        "# Define visualization parameters\n",
        "vis_params = {'min': -2, 'max': 2, 'palette': ['red', 'yellow', 'green']}\n",
        "\n",
        "# Create a split-panel map\n",
        "left_layer = geemap.ee_tile_layer(median_spei_2021, vis_params, 'SPEI 2021')\n",
        "right_layer = geemap.ee_tile_layer(median_spei_2022, vis_params, 'SPEI 2022')\n",
        "\n",
        "Map = geemap.Map()\n",
        "Map.split_map(left_layer, right_layer)\n",
        "Map.centerObject(mandera, 8)\n",
        "Map"
      ],
      "metadata": {
        "colab": {
          "base_uri": "https://localhost:8080/",
          "height": 621,
          "referenced_widgets": [
            "839dceba4a8347f4a0bf74b3a762bb87",
            "574ddfc8c7b546979568069e7f40a811",
            "5fa5782ec7a34e168a124a765b3d0e55",
            "bd54bed037714c19a14984b1aa305b7d",
            "2bae284a874945ddb93982185b34af15",
            "c732ddcc193946e2947a1f40542101f2",
            "239eec064f0f43b3bbc6a0f65e4a84e4",
            "6087df29774f4e5ea188888e56ea266b",
            "c724f54fa6174003a45decda6ca6578c",
            "bbdc94df3d2a459d88266c815b9af442",
            "40ecb850e6a64e0a83d6b5b242fc7149",
            "7592b064f6dc4b6983356c26b27f4178"
          ]
        },
        "id": "GJ5yhci3a5uE",
        "outputId": "c124e962-61fa-4a26-b341-1bb3b6f98eab"
      },
      "execution_count": null,
      "outputs": [
        {
          "output_type": "display_data",
          "data": {
            "text/plain": [
              "<IPython.core.display.HTML object>"
            ],
            "text/html": [
              "\n",
              "            <style>\n",
              "                .geemap-dark {\n",
              "                    --jp-widgets-color: white;\n",
              "                    --jp-widgets-label-color: white;\n",
              "                    --jp-ui-font-color1: white;\n",
              "                    --jp-layout-color2: #454545;\n",
              "                    background-color: #383838;\n",
              "                }\n",
              "\n",
              "                .geemap-dark .jupyter-button {\n",
              "                    --jp-layout-color3: #383838;\n",
              "                }\n",
              "\n",
              "                .geemap-colab {\n",
              "                    background-color: var(--colab-primary-surface-color, white);\n",
              "                }\n",
              "\n",
              "                .geemap-colab .jupyter-button {\n",
              "                    --jp-layout-color3: var(--colab-primary-surface-color, white);\n",
              "                }\n",
              "            </style>\n",
              "            "
            ]
          },
          "metadata": {}
        },
        {
          "output_type": "display_data",
          "data": {
            "text/plain": [
              "Map(center=[3.437846767214043, 40.73900018258642], controls=(ZoomControl(options=['position', 'zoom_in_text', …"
            ],
            "application/vnd.jupyter.widget-view+json": {
              "version_major": 2,
              "version_minor": 0,
              "model_id": "839dceba4a8347f4a0bf74b3a762bb87"
            }
          },
          "metadata": {
            "application/vnd.jupyter.widget-view+json": {
              "colab": {
                "custom_widget_manager": {
                  "url": "https://ssl.gstatic.com/colaboratory-static/widgets/colab-cdn-widget-manager/2b70e893a8ba7c0f/manager.min.js"
                }
              }
            }
          }
        }
      ]
    },
    {
      "cell_type": "markdown",
      "source": [
        "Support for third party widgets will remain active for the duration of the session. To disable support:"
      ],
      "metadata": {
        "id": "1mXYHEkZY0NF"
      }
    },
    {
      "cell_type": "code",
      "source": [
        "from google.colab import output\n",
        "output.disable_custom_widget_manager()"
      ],
      "metadata": {
        "colab": {
          "base_uri": "https://localhost:8080/",
          "height": 17
        },
        "id": "gosvFmoBY0NG",
        "outputId": "c1bdd694-143f-4729-f55a-82d4180f249e"
      },
      "execution_count": null,
      "outputs": [
        {
          "output_type": "display_data",
          "data": {
            "text/plain": [
              "<IPython.core.display.HTML object>"
            ],
            "text/html": [
              "\n",
              "            <style>\n",
              "                .geemap-dark {\n",
              "                    --jp-widgets-color: white;\n",
              "                    --jp-widgets-label-color: white;\n",
              "                    --jp-ui-font-color1: white;\n",
              "                    --jp-layout-color2: #454545;\n",
              "                    background-color: #383838;\n",
              "                }\n",
              "\n",
              "                .geemap-dark .jupyter-button {\n",
              "                    --jp-layout-color3: #383838;\n",
              "                }\n",
              "\n",
              "                .geemap-colab {\n",
              "                    background-color: var(--colab-primary-surface-color, white);\n",
              "                }\n",
              "\n",
              "                .geemap-colab .jupyter-button {\n",
              "                    --jp-layout-color3: var(--colab-primary-surface-color, white);\n",
              "                }\n",
              "            </style>\n",
              "            "
            ]
          },
          "metadata": {}
        }
      ]
    }
  ]
}